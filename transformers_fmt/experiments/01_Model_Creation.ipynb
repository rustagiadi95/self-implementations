{
 "cells": [
  {
   "cell_type": "code",
   "execution_count": 1,
   "metadata": {},
   "outputs": [],
   "source": [
    "## why not put attention heads as 3rd dimension? (BATCH_SIZE, ATTENTION_HEADS, SEQ_LEN, D_MODEL)\n",
    "## Apply padding masks to multi head attention\n",
    "## how to stack transformer encoder decoder layers"
   ]
  },
  {
   "cell_type": "code",
   "execution_count": 1,
   "metadata": {},
   "outputs": [
    {
     "name": "stderr",
     "output_type": "stream",
     "text": [
      "/Users/adityarustagi/anaconda3/lib/python3.10/site-packages/tqdm/auto.py:22: TqdmWarning: IProgress not found. Please update jupyter and ipywidgets. See https://ipywidgets.readthedocs.io/en/stable/user_install.html\n",
      "  from .autonotebook import tqdm as notebook_tqdm\n"
     ]
    }
   ],
   "source": [
    "import torch\n",
    "import torch.nn as nn\n",
    "import torch.nn.functional as F\n",
    "import torch.optim as optim\n",
    "from torch.nn.utils.rnn import pad_sequence\n",
    "from torch.utils.data import Dataset, DataLoader\n",
    "from transformers import AutoTokenizer\n",
    "\n",
    "import numpy as np\n",
    "import matplotlib.pyplot as plt\n",
    "import seaborn as sns\n",
    "import pandas as pd\n",
    "import os"
   ]
  },
  {
   "cell_type": "code",
   "execution_count": 2,
   "metadata": {},
   "outputs": [],
   "source": [
    "# from transformers_si.model_blocks.transformer import Transformers"
   ]
  },
  {
   "cell_type": "code",
   "execution_count": 3,
   "metadata": {},
   "outputs": [],
   "source": [
    "from utils.logging import logs"
   ]
  },
  {
   "cell_type": "code",
   "execution_count": 4,
   "metadata": {},
   "outputs": [],
   "source": [
    "ROOT_DIR = '/Users/adityarustagi/Documents/self-implementations/'\n",
    "device = 'cuda' if torch.cuda.is_available() else 'cpu'"
   ]
  },
  {
   "attachments": {},
   "cell_type": "markdown",
   "metadata": {},
   "source": [
    "## Building Blocks"
   ]
  },
  {
   "attachments": {},
   "cell_type": "markdown",
   "metadata": {},
   "source": [
    "#### Scaled Dot Product Attention"
   ]
  },
  {
   "cell_type": "code",
   "execution_count": 5,
   "metadata": {},
   "outputs": [],
   "source": [
    "class ScaledDotProductAttention(nn.Module) :\n",
    "\n",
    "    def __init__(self, \n",
    "                 n_heads:int = 8,\n",
    "                 d_model:int = 512,\n",
    "                 mask:bool = False\n",
    "        ) -> None :\n",
    "\n",
    "        \"\"\"\n",
    "        Args:\n",
    "            n_heads (int): Number of heads in the multi head attention. Defualts to 8\n",
    "            d_model (int, optional): Dimension of the input. Defaults to 512.\n",
    "            mask (bool, optional): Whether to apply masking. Defaults to False\n",
    "        \"\"\"\n",
    "\n",
    "        super(ScaledDotProductAttention, self).__init__()\n",
    "\n",
    "        self.n_heads = n_heads\n",
    "        self.d_model = d_model\n",
    "        self.mask = mask\n",
    "        self.d_k = int(d_model/n_heads)\n",
    "\n",
    "    def forward(self,\n",
    "                key : torch.Tensor,\n",
    "                query : torch.Tensor,\n",
    "                value : torch.Tensor\n",
    "        ) -> torch.Tensor :\n",
    "\n",
    "        \"\"\"\n",
    "        Calculate scaler dot product of key, query and values as described in https://arxiv.org/pdf/1706.03762.pdf\n",
    "\n",
    "        Args:\n",
    "            key (torch.Tensor): Key tensor. Shape = (n_heads, batch_size, seq_len, d_model/n_heads)\n",
    "            query (torch.Tensor): Query tensor. Shape = (n_heads, batch_size, seq_len, d_model/n_heads)\n",
    "            value (torch.Tensor): Value tensor. Shape = (n_heads, batch_size, seq_len, d_model/n_heads)\n",
    "\n",
    "        Returns:\n",
    "            value_with_attention: Value with attention applied. Shape = (n_heads, batch_size, seq_len, d_model/n_heads)\n",
    "        \"\"\"\n",
    "\n",
    "        # assert key.size() == query.size() == value.size(), \"Key, query and value must have same shape\"\n",
    "\n",
    "        batch_size, seq_len = key.size(1), key.size(2)\n",
    "\n",
    "        attention_scores = torch.matmul(query, key.transpose(2, 3))/torch.sqrt(torch.tensor(self.d_k))\n",
    "        attention_scores = torch.softmax(attention_scores, dim = 3)\n",
    "        \n",
    "        if self.mask :\n",
    "            mask = torch.ones(self.n_heads, batch_size, seq_len, seq_len)\n",
    "            mask = torch.tril(mask)\n",
    "            attention_scores = torch.matmul(attention_scores, mask)\n",
    "            \n",
    "        value_with_attention = torch.matmul(attention_scores, value)\n",
    "\n",
    "        return value_with_attention, attention_scores"
   ]
  },
  {
   "cell_type": "markdown",
   "metadata": {},
   "source": [
    "#### Multi Head Attention"
   ]
  },
  {
   "cell_type": "code",
   "execution_count": 6,
   "metadata": {},
   "outputs": [],
   "source": [
    "class MultiHeadAttention(nn.Module) :\n",
    "    \n",
    "    def __init__(self, \n",
    "                 n_head: int = 8, \n",
    "                 d_model: int = 512, \n",
    "                 dropout: float = 0.1, \n",
    "                 mask: bool = False,\n",
    "                 self_attention:bool = True\n",
    "        ) :\n",
    "\n",
    "        \"\"\"\n",
    "        Args:\n",
    "            n_head (int): Number of heads. Defaults to 8.\n",
    "            d_model (int): Dimension of input. Defaults to 512.\n",
    "            dropout (float): Dropout rate. Defaults to 0.1.\n",
    "            mask (bool): Whether to mask the attention. Defaults to False.\n",
    "            self_attention (bool): Whether to use self attention. Defaults to True.\n",
    "        \"\"\"\n",
    "\n",
    "        super(MultiHeadAttention, self).__init__()\n",
    "        \n",
    "        self.n_head = n_head\n",
    "        self.d_model = d_model\n",
    "        self.dropout = nn.Dropout(dropout)\n",
    "        self.self_attention = self_attention\n",
    "\n",
    "        self.d_k = self.d_v = d_model // n_head\n",
    "        self.w_qs = nn.Linear(d_model, n_head * self.d_k)\n",
    "        self.w_ks = nn.Linear(d_model, n_head * self.d_k)\n",
    "        self.w_vs = nn.Linear(d_model, n_head * self.d_v)\n",
    "\n",
    "        self.attention = ScaledDotProductAttention(n_head, d_model, mask)\n",
    "\n",
    "        self.mha_linear = nn.Linear(d_model, d_model)\n",
    "\n",
    "        nn.init.normal_(self.w_qs.weight, mean = 0, std = np.sqrt(2.0 / (d_model + self.d_k)))\n",
    "        nn.init.normal_(self.w_ks.weight, mean = 0, std = np.sqrt(2.0 / (d_model + self.d_k)))\n",
    "        nn.init.normal_(self.w_vs.weight, mean = 0, std = np.sqrt(2.0 / (d_model + self.d_v)))\n",
    "\n",
    "    def forward(self, x, q = None) :\n",
    "\n",
    "        \"\"\"\n",
    "        Implementation of multi head attention layer.\n",
    "\n",
    "        Args:\n",
    "            x (torch.Tensor): Padded input with the shaep batch_len, seq_len, d_model\n",
    "            q (torch.Tensor): Query with the shape batch_size, seq_len, d_model. Defaults to None.\n",
    "        \n",
    "        Returns:\n",
    "            torch.Tensor: Values with multiheadattention applied. Shape = (batch_size, seq_len, d_model)\n",
    "        \n",
    "        Raises:\n",
    "            ValueError: If mode is cross attention and query passed in forward is None.\n",
    "            ValueError: If mode is cross attention and shape of query is not same as input coming from encoder.\n",
    "        \n",
    "        References:\n",
    "            https://github.com/jadore801120/attention-is-all-you-need-pytorch/blob/master/transformer/MultiHeadAttention.py\n",
    "            https://github.com/jadore801120/attention-is-all-you-need-pytorch/blob/master/transformer/Transformer.py\n",
    "            https://github.com/jadore801120/attention-is-all-you-need-pytorch/blob/master/transformer/PositionalEncoding.py\n",
    "        \"\"\"\n",
    "         \n",
    "        if not self.self_attention:\n",
    "            if q is None :\n",
    "                raise ValueError(\"q is required for cross attention\")\n",
    "            # elif x.size() != q.size() :\n",
    "            #     raise ValueError(\"q and X must have same size\")\n",
    "        else :\n",
    "            q = x\n",
    "\n",
    "        key = F.gelu(self.w_ks(x))\n",
    "        query = F.gelu(self.w_qs(q))\n",
    "        value = F.gelu(self.w_vs(x))\n",
    "\n",
    "        ## keeping n_heads as major dimension\n",
    "        key = key.view(-1, key.size(0), key.size(1), self.d_k)\n",
    "        query = query.view(-1, query.size(0), query.size(1), self.d_k)\n",
    "        value = value.view(-1, value.size(0), value.size(1), self.d_v)\n",
    "\n",
    "        value, attention = self.attention(key, query, value)\n",
    "\n",
    "        value = value.view(value.size(1), value.size(2), -1)\n",
    "\n",
    "        # value = self.dropout(value)\n",
    "\n",
    "        value = self.dropout(F.gelu(self.mha_linear(value)))\n",
    "\n",
    "        return value, attention"
   ]
  },
  {
   "attachments": {},
   "cell_type": "markdown",
   "metadata": {},
   "source": [
    "#### Add and layer normalization"
   ]
  },
  {
   "cell_type": "code",
   "execution_count": 7,
   "metadata": {},
   "outputs": [],
   "source": [
    "class AddLayerNormalization(nn.Module) :\n",
    "\n",
    "    def __init__(self, d_model) :\n",
    "        \n",
    "        super().__init__()\n",
    "\n",
    "        self.layer_norm = nn.LayerNorm([d_model])\n",
    "\n",
    "    def forward(self, x, mha_output) :\n",
    "        \n",
    "        return self.layer_norm(x + mha_output)"
   ]
  },
  {
   "attachments": {},
   "cell_type": "markdown",
   "metadata": {},
   "source": [
    "#### Point Wise Feedforward"
   ]
  },
  {
   "cell_type": "code",
   "execution_count": 8,
   "metadata": {},
   "outputs": [],
   "source": [
    "class PointWiseFeedforward(nn.Module) :\n",
    "\n",
    "    def __init__(self, \n",
    "                 d_ff: int = 2048, \n",
    "                 d_model: int = 512\n",
    "    ) -> None :\n",
    "        \n",
    "        \"\"\"\n",
    "        Args:\n",
    "            d_ff (int): Intermediate size of the feedforward layer.\n",
    "            d_model (int):  Size of the embeddings.\n",
    "        \"\"\"\n",
    "        \n",
    "        super(PointWiseFeedforward, self).__init__()\n",
    "\n",
    "        self.linear1 = nn.Linear(d_model, d_ff)\n",
    "        self.linear2 = nn.Linear(d_ff, d_model)\n",
    "\n",
    "    def forward(self, x) :\n",
    "        \n",
    "        linear1_output = self.linear1(x)\n",
    "        linear2_output = self.linear2(F.gelu(linear1_output))\n",
    "\n",
    "        return linear2_output\n",
    "        "
   ]
  },
  {
   "attachments": {},
   "cell_type": "markdown",
   "metadata": {},
   "source": [
    "####  Single Encoder Layer"
   ]
  },
  {
   "cell_type": "code",
   "execution_count": 9,
   "metadata": {},
   "outputs": [],
   "source": [
    "class EncoderLayer(nn.Module) :\n",
    "\n",
    "    def __init__(self,\n",
    "                 n_heads: int = 8,\n",
    "                 d_model: int = 512,\n",
    "                 d_ff: int = 2048\n",
    "        ) -> None :\n",
    "        \n",
    "        super(EncoderLayer, self).__init__()\n",
    "        \n",
    "        self.mha = MultiHeadAttention(n_heads, d_model, )\n",
    "        self.layer_norm = AddLayerNormalization(d_model)\n",
    "        self.pff = PointWiseFeedforward(d_ff, d_model)\n",
    "        self.layer_norm2 = AddLayerNormalization(d_model)\n",
    "\n",
    "    def forward(self, x) :\n",
    "\n",
    "        mha_output, mha_attention_scores = self.mha(x)\n",
    "        # logs(f\"mha_output shape: {mha_output.shape}\")\n",
    "        norm_output1 = self.layer_norm(x, mha_output)\n",
    "        # logs(f\"norm_output1 shape: {norm_output1.shape}\")\n",
    "\n",
    "        pff_output = self.pff(norm_output1)\n",
    "        # logs(f\"pff_output shape: {pff_output.shape}\")\n",
    "        norm_output2 = self.layer_norm2(norm_output1, pff_output)\n",
    "        # logs(f\"norm_output2 shape: {norm_output2.shape}\")\n",
    "\n",
    "        return norm_output2, mha_attention_scores"
   ]
  },
  {
   "cell_type": "markdown",
   "metadata": {},
   "source": [
    "#### Single Decoder Layer"
   ]
  },
  {
   "cell_type": "code",
   "execution_count": 10,
   "metadata": {},
   "outputs": [],
   "source": [
    "class DecoderLayer(nn.Module) :\n",
    "\n",
    "    def __init__(self, \n",
    "                 n_heads,\n",
    "                 d_model,\n",
    "                 d_ff, \n",
    "    ) -> None :\n",
    "\n",
    "        super(DecoderLayer, self).__init__()\n",
    "\n",
    "        self.mha = MultiHeadAttention(n_head=n_heads, d_model=d_model, mask = True)\n",
    "        self.cross_mha = MultiHeadAttention(n_head=n_heads, d_model=d_model, self_attention=False)\n",
    "        self.layer_norm1 = AddLayerNormalization(d_model)\n",
    "        self.layer_norm2 = AddLayerNormalization(d_model)\n",
    "        self.layer_norm3 = AddLayerNormalization(d_model)\n",
    "        self.pff = PointWiseFeedforward(d_ff, d_model)\n",
    "\n",
    "    def forward(self, x, enc_out) :\n",
    "        ## passing encoder output to all decoder layers : to be discussed with Deepak\n",
    "        decoder_query, _ = self.mha(x)\n",
    "        norm_decoder_query = self.layer_norm1(x, decoder_query)\n",
    "\n",
    "        x, _ = self.cross_mha(enc_out, norm_decoder_query)\n",
    "        norm_cross_x = self.layer_norm2(norm_decoder_query, x)\n",
    "\n",
    "        x = self.pff(norm_cross_x)\n",
    "        norm_decoder_output = self.layer_norm3(norm_cross_x, x)\n",
    "\n",
    "        return norm_decoder_output"
   ]
  },
  {
   "cell_type": "markdown",
   "metadata": {},
   "source": [
    "#### Position Embedding"
   ]
  },
  {
   "cell_type": "code",
   "execution_count": 11,
   "metadata": {},
   "outputs": [],
   "source": [
    "class PositionEmbedding(nn.Module) :\n",
    "\n",
    "    def __init__(self,\n",
    "        max_seq_len: int = 128, \n",
    "        d_model: int = 512,\n",
    "        dropout: int = 0.1\n",
    "    ) :\n",
    "\n",
    "        super(PositionEmbedding, self).__init__()\n",
    "\n",
    "        self.embedding = torch.zeros(max_seq_len, d_model)\n",
    "        self.dropout = nn.Dropout()\n",
    "        \n",
    "        for i in range(max_seq_len) :\n",
    "            self.embedding[i, 0::2] = torch.sin((i/1000**(2*torch.arange(512)[::2]/512)))\n",
    "            self.embedding[i, 1::2] = torch.cos((i/1000**(2*torch.arange(512)[1::2]/512)))\n",
    "\n",
    "    def forward(self, x) :\n",
    "\n",
    "        embedding = torch.repeat_interleave(self.embedding.unsqueeze(0), x.size(0), 0)\n",
    "\n",
    "        return self.dropout(x + embedding[:, :x.size(1), :])"
   ]
  },
  {
   "cell_type": "markdown",
   "metadata": {},
   "source": [
    "## Encoder"
   ]
  },
  {
   "cell_type": "code",
   "execution_count": 12,
   "metadata": {},
   "outputs": [],
   "source": [
    "class Encoder(nn.Module) :\n",
    "\n",
    "    def __init__(self,\n",
    "                 n_layer: int = 6,\n",
    "                 n_heads: int = 8,\n",
    "                 d_model: int = 512,\n",
    "                 d_ff: int = 2048\n",
    "    ) :\n",
    "        super(Encoder, self).__init__()\n",
    "        \n",
    "        self.encoder = nn.ModuleDict({\n",
    "            f'encoder_layer_{i}' : \n",
    "            (\n",
    "                EncoderLayer(\n",
    "                    n_heads,\n",
    "                    d_model,\n",
    "                    d_ff\n",
    "                )\n",
    "            ) for i in range(n_layer)\n",
    "            })\n",
    "\n",
    "    def forward(self, x) :\n",
    "        # logs(f'input size : {x.size()}')\n",
    "        for name, layer in self.encoder.items() :\n",
    "            x, attention_scores = layer(x)\n",
    "            # logs(f'{name} output size : {x.size()}')\n",
    "        return x, attention_scores"
   ]
  },
  {
   "cell_type": "markdown",
   "metadata": {},
   "source": [
    "## Decoder"
   ]
  },
  {
   "cell_type": "code",
   "execution_count": 13,
   "metadata": {},
   "outputs": [],
   "source": [
    "class Decoder(nn.Module) :\n",
    "\n",
    "    def __init__(self,\n",
    "                 n_layer: int = 6,\n",
    "                 n_heads: int = 8,\n",
    "                 d_model: int = 512,\n",
    "                 d_ff: int = 2048\n",
    "    ) -> None :\n",
    "\n",
    "        super(Decoder, self).__init__()\n",
    "\n",
    "        self.decoder = nn.ModuleDict({\n",
    "            f'decoder_layer_{i}' :\n",
    "            (\n",
    "                DecoderLayer(\n",
    "                    n_heads,\n",
    "                    d_model,\n",
    "                    d_ff\n",
    "                )\n",
    "            ) for i in range(n_layer)\n",
    "        })\n",
    "\n",
    "\n",
    "    def forward(self, x, enc_out) :\n",
    "\n",
    "        for name, layer in self.decoder.items() :\n",
    "            x = layer(x, enc_out)\n",
    "            \n",
    "        return x"
   ]
  },
  {
   "cell_type": "markdown",
   "metadata": {},
   "source": [
    "# TRANSFORMER"
   ]
  },
  {
   "cell_type": "code",
   "execution_count": 14,
   "metadata": {},
   "outputs": [],
   "source": [
    "class Transformers(nn.Module) :\n",
    "\n",
    "    def __init__(self,\n",
    "                 n_layer,\n",
    "                 n_heads,\n",
    "                 d_model,\n",
    "                 d_ff,\n",
    "                 max_seq_len,\n",
    "                 vocab_size,\n",
    "        ) -> None :\n",
    "\n",
    "        super(Transformers, self).__init__()\n",
    "\n",
    "        vocab_size = vocab_size + 2\n",
    "\n",
    "        self.encoder = Encoder(n_layer, n_heads, d_model, d_ff)\n",
    "        self.decoder = Decoder(n_layer, n_heads, d_model, d_ff)\n",
    "        self.positonal_embedding = PositionEmbedding(max_seq_len, d_model)\n",
    "\n",
    "        self.embedding = nn.Embedding(vocab_size, d_model)\n",
    "        self.logit_layer = nn.Linear(d_model, vocab_size)\n",
    "\n",
    "        self.max_seq_len = max_seq_len\n",
    "\n",
    "\n",
    "    def encoder_pass(self, x) :\n",
    "        \n",
    "        x = self.embedding(x)\n",
    "        x = self.positonal_embedding(x)\n",
    "        x = self.encoder(x)\n",
    "\n",
    "        return x\n",
    "    \n",
    "\n",
    "    def decoder_pass(self, enc_output, input_ids) :\n",
    "\n",
    "        x = self.embedding(input_ids)\n",
    "        x = self.positonal_embedding(x)\n",
    "        x = self.decoder(x, enc_output)\n",
    "\n",
    "        next_token_logits = F.relu(self.logit_layer(x))\n",
    "        next_token_logits = next_token_logits.reshape(-1, next_token_logits.size(2))\n",
    "\n",
    "        return F.log_softmax(next_token_logits, dim=1)\n",
    "\n",
    "    def forward(self, encoder_inp, decoder_inp) :\n",
    "\n",
    "        enc_output, attention_scores = self.encoder_pass(encoder_inp)\n",
    "        output = self.decoder_pass(enc_output, decoder_inp)\n",
    "\n",
    "        return attention_scores, output"
   ]
  },
  {
   "cell_type": "code",
   "execution_count": 165,
   "metadata": {},
   "outputs": [],
   "source": [
    "max_seq_len = 10\n",
    "debug = True\n",
    "\n",
    "def generate(model, enc_output, tokenizer, max_seq_len):\n",
    "    \n",
    "    input_ids = torch.tensor([[tokenizer.bos_token_id] for _ in range(enc_output.size(0))]).to(device)\n",
    "\n",
    "    unfinished_sequences = torch.ones(input_ids.size(0), 1).to(device)\n",
    "    eos_token_id_tensor = torch.tensor([tokenizer.eos_token_id]).to(device)\n",
    "    # logs('unfinished_sequences size: {}'.format(unfinished_sequences.size()), debug)\n",
    "\n",
    "    sentence_length = input_ids.size(1)\n",
    "\n",
    "    while sentence_length <= max_seq_len :\n",
    "\n",
    "        x = model.embedding(input_ids)\n",
    "        x = model.positonal_embedding(x)\n",
    "        x = model.decoder(x, enc_output)\n",
    "        next_token_logits = x[:, -1, :]\n",
    "        \n",
    "        # logs(f'next_token_logits size: {next_token_logits.size()}', debug)\n",
    "\n",
    "        next_token_logits = F.softmax(next_token_logits, dim=1)\n",
    "        next_token_indices = torch.argmax(next_token_logits, dim = 1)\n",
    "\n",
    "        # logs(f'next_token_indices post softmax size: {next_token_indices.size()}', debug)\n",
    "\n",
    "        # logs(f'next_token_indices * unfinished_sequences size: {(next_token_indices.unsqueeze(1) * unfinished_sequences).size()}', debug)\n",
    "\n",
    "        # logs(f'tokenizer.pad_token_id * (1 - unfinished_sequences) size: {(tokenizer.pad_token_id * (1 - unfinished_sequences)).size()}', debug)\n",
    "\n",
    "        next_token_indices = (\n",
    "            next_token_indices.unsqueeze(1) * unfinished_sequences + tokenizer.pad_token_id * (1 - unfinished_sequences)\n",
    "        )\n",
    "        unfinished_sequences = unfinished_sequences.mul(\n",
    "            next_token_indices.tile(\n",
    "                eos_token_id_tensor.shape[0]\n",
    "            ).ne(eos_token_id_tensor).prod(dim = 0)\n",
    "        )\n",
    "\n",
    "        if unfinished_sequences.max() == 0 :\n",
    "            break\n",
    "\n",
    "        # print(input_ids.size())\n",
    "        # print(next_token_indices.size())\n",
    "\n",
    "        input_ids = torch.cat(\n",
    "            (\n",
    "                input_ids, \n",
    "                next_token_indices\n",
    "            ), \n",
    "            dim = 1).long()\n",
    "\n",
    "        sentence_length += 1\n",
    "    \n",
    "        print(input_ids.size(1))\n",
    "\n",
    "    return input_ids\n"
   ]
  },
  {
   "cell_type": "code",
   "execution_count": 167,
   "metadata": {},
   "outputs": [
    {
     "name": "stdout",
     "output_type": "stream",
     "text": [
      "2\n",
      "3\n",
      "4\n",
      "5\n",
      "6\n",
      "7\n",
      "8\n",
      "9\n",
      "10\n",
      "11\n"
     ]
    }
   ],
   "source": [
    "enc_output, attention_scores = transformers.encoder(torch.rand(16, 24, 512))\n",
    "\n",
    "input_ids = generate(transformers, enc_output, tokenizer, max_seq_len)"
   ]
  },
  {
   "cell_type": "code",
   "execution_count": 168,
   "metadata": {},
   "outputs": [
    {
     "data": {
      "text/plain": [
       "['[BOS] Ç Æ ğ ğ ğ [unused24] µ M s µ',\n",
       " '[BOS] Ç [unused65] Λ ğ Џ [unused24] ł ğ µ Џ',\n",
       " '[BOS] Ç [unused9] t ğ [unused7] t M t [unused2] ğ',\n",
       " '[BOS] ū V Đ ğ Џ ğ l t µ ł',\n",
       " '[BOS] Õ F a ğ [unused24] [unused12] Æ ğ [unused24] µ',\n",
       " '[BOS] [unused9]! ğ ğ t Æ [unused12] ğ M ğ',\n",
       " '[BOS] ˈ < [unused9] [unused52] ¿ [unused12] ğ M t ł',\n",
       " '[BOS] ʁ s [unused9] M t [unused62] t ğ ς t',\n",
       " '[BOS] ø ő õ [unused52] t t ğ [unused24] t µ',\n",
       " '[BOS] ÿ Ţ [unused77] ğ [unused24] ğ [unused24] ğ M M',\n",
       " '[BOS] Î Æ ğ õ t [unused24] t t µ ł',\n",
       " '[BOS] ʁ \" 6 ¦ M ğ [unused78] t [unused16] M',\n",
       " '[BOS] Õ Ə µ ğ [unused16] ğ [unused16] t ğ Џ',\n",
       " '[BOS] Ç O t [unused80] Æ t [unused24] t t ğ',\n",
       " '[BOS] ʁ µ [unused97] [unused89] [unused9] M t Џ ğ Џ',\n",
       " '[BOS] µ l ğ µ t t ğ M ğ t']"
      ]
     },
     "execution_count": 168,
     "metadata": {},
     "output_type": "execute_result"
    }
   ],
   "source": [
    "tokenizer.batch_decode(input_ids)"
   ]
  },
  {
   "cell_type": "code",
   "execution_count": 67,
   "metadata": {},
   "outputs": [],
   "source": [
    "next_token_indices = torch.rand(5, 1)\n",
    "unfinished_sequences = torch.tensor([1, 1, 0, 1, 0]).unsqueeze(1)"
   ]
  },
  {
   "cell_type": "code",
   "execution_count": 68,
   "metadata": {},
   "outputs": [],
   "source": [
    "next_token_indices = (\n",
    "    next_token_indices * unfinished_sequences + tokenizer.pad_token_id * (1 - unfinished_sequences)\n",
    ")"
   ]
  },
  {
   "cell_type": "code",
   "execution_count": 69,
   "metadata": {},
   "outputs": [
    {
     "data": {
      "text/plain": [
       "tensor([[0.8011],\n",
       "        [0.6144],\n",
       "        [0.0000],\n",
       "        [0.3131],\n",
       "        [0.0000]])"
      ]
     },
     "execution_count": 69,
     "metadata": {},
     "output_type": "execute_result"
    }
   ],
   "source": [
    "next_token_indices"
   ]
  },
  {
   "cell_type": "code",
   "execution_count": 72,
   "metadata": {},
   "outputs": [],
   "source": [
    "eos_token_id_tensor = torch.tensor([tokenizer.eos_token_id])"
   ]
  },
  {
   "cell_type": "code",
   "execution_count": 98,
   "metadata": {},
   "outputs": [
    {
     "data": {
      "text/plain": [
       "torch.Size([1, 5, 1])"
      ]
     },
     "execution_count": 98,
     "metadata": {},
     "output_type": "execute_result"
    }
   ],
   "source": [
    "next_token_indices.tile(1, 1, 1).size()"
   ]
  },
  {
   "cell_type": "code",
   "execution_count": 100,
   "metadata": {},
   "outputs": [
    {
     "data": {
      "text/plain": [
       "tensor([[1],\n",
       "        [1],\n",
       "        [0],\n",
       "        [1],\n",
       "        [0]])"
      ]
     },
     "execution_count": 100,
     "metadata": {},
     "output_type": "execute_result"
    }
   ],
   "source": [
    "unfinished_sequences.mul(next_token_indices.tile(eos_token_id_tensor.shape[0]).ne(eos_token_id_tensor).prod(dim = 0))"
   ]
  },
  {
   "cell_type": "code",
   "execution_count": 50,
   "metadata": {},
   "outputs": [],
   "source": [
    "unfinished_sequences = unfinished_sequences.mul(\n",
    "    next_tokens.tile(eos_token_id_tensor.shape[0], 1).ne(eos_token_id_tensor.unsqueeze(1)).prod(dim=0)\n",
    ")"
   ]
  },
  {
   "cell_type": "code",
   "execution_count": 64,
   "metadata": {},
   "outputs": [
    {
     "data": {
      "text/plain": [
       "tensor([[0.4767],\n",
       "        [0.0613],\n",
       "        [0.0000],\n",
       "        [0.6866],\n",
       "        [0.0000]])"
      ]
     },
     "execution_count": 64,
     "metadata": {},
     "output_type": "execute_result"
    }
   ],
   "source": [
    "next_token_indices * unfinished_sequences + tokenizer.pad_token_id*(1 - unfinished_sequences)"
   ]
  },
  {
   "cell_type": "code",
   "execution_count": 63,
   "metadata": {},
   "outputs": [
    {
     "data": {
      "text/plain": [
       "tensor([[0.4767],\n",
       "        [0.0613],\n",
       "        [0.0000],\n",
       "        [0.6866],\n",
       "        [0.0000]])"
      ]
     },
     "execution_count": 63,
     "metadata": {},
     "output_type": "execute_result"
    }
   ],
   "source": []
  },
  {
   "cell_type": "markdown",
   "metadata": {},
   "source": [
    "# Dataset"
   ]
  },
  {
   "cell_type": "markdown",
   "metadata": {},
   "source": [
    "#### Prepare tokenizer"
   ]
  },
  {
   "cell_type": "code",
   "execution_count": 15,
   "metadata": {},
   "outputs": [
    {
     "data": {
      "text/plain": [
       "2"
      ]
     },
     "execution_count": 15,
     "metadata": {},
     "output_type": "execute_result"
    }
   ],
   "source": [
    "tokenizer = AutoTokenizer.from_pretrained('bert-base-multilingual-cased')\n",
    "\n",
    "\n",
    "tokenizer.add_special_tokens({\n",
    "    'bos_token' : '[BOS]',\n",
    "    'eos_token' : '[EOS]'\n",
    "})\n"
   ]
  },
  {
   "cell_type": "code",
   "execution_count": 22,
   "metadata": {},
   "outputs": [],
   "source": [
    "def get_data(file_location, chunksize=1000, n_chunks = 100) :\n",
    "\n",
    "    data = []\n",
    "\n",
    "\n",
    "    for i, items in enumerate(pd.read_csv(file_location, chunksize=chunksize)) :\n",
    "\n",
    "        data.append(items)\n",
    "        if i == n_chunks :\n",
    "            break\n",
    "\n",
    "    data = pd.concat(data)\n",
    "    data.index = range(len(data))\n",
    "\n",
    "    return data"
   ]
  },
  {
   "cell_type": "code",
   "execution_count": 23,
   "metadata": {},
   "outputs": [],
   "source": [
    "data = get_data(file_location=os.path.join(ROOT_DIR, 'data/en-fr.csv'), n_chunks = 1)"
   ]
  },
  {
   "cell_type": "code",
   "execution_count": 24,
   "metadata": {},
   "outputs": [],
   "source": [
    "class Data(Dataset) :\n",
    "\n",
    "    def __init__(self, data) :\n",
    "        self.data = data\n",
    "\n",
    "    def __len__(self) :\n",
    "        return len(self.data)\n",
    "    \n",
    "    def __getitem__(self, index) -> any:\n",
    "        row = self.data.loc[index]\n",
    "        return {'en' : row['en'], 'fr' : row['fr']}\n"
   ]
  },
  {
   "cell_type": "code",
   "execution_count": 25,
   "metadata": {},
   "outputs": [],
   "source": [
    "def preprocess_batch(batch, type = 'input') :\n",
    "\n",
    "    ## Append the BOS and EOS token based on wether the batch is the encoder input, decoder input(output shifted left)\n",
    "    ## or the label (output shifted right)\n",
    "    if type == 'input' :\n",
    "        input_token_ids = [\n",
    "            torch.cat(\n",
    "                (torch.tensor([tokenizer.bos_token_id]), torch.tensor(inp), torch.tensor([tokenizer.eos_token_id])),\n",
    "            ) for inp in batch['input_ids']\n",
    "        ]\n",
    "\n",
    "    elif type == 'output' :\n",
    "        input_token_ids = [\n",
    "            torch.cat(\n",
    "                (torch.tensor([tokenizer.bos_token_id]), torch.tensor(inp)),\n",
    "            ) for inp in batch['input_ids']\n",
    "        ]\n",
    "\n",
    "    elif type == 'label' :\n",
    "        input_token_ids = [\n",
    "            torch.cat(\n",
    "                (torch.tensor(inp), torch.tensor([tokenizer.eos_token_id])),\n",
    "            ) for inp in batch['input_ids']\n",
    "        ]\n",
    "\n",
    "    ## pad the token to the maxiumum sentence length\n",
    "    input_token_ids = pad_sequence(input_token_ids, batch_first=True, padding_value = tokenizer.pad_token_id)\n",
    "\n",
    "    return input_token_ids\n",
    "\n",
    "# def collate_fn(samples):\n",
    "    \n",
    "#     eng_samples = [items['en'] for items in samples]\n",
    "#     fr_samples = [items['fr'] for items in samples]\n",
    "\n",
    "#     batch = {}\n",
    "\n",
    "#     for language, sample in {'en' : eng_samples, 'fr' : fr_samples}.items() :\n",
    "\n",
    "#         sample = tokenizer.batch_encode_plus(sample)\n",
    "#         batch[language] = preprocess_batch(sample)\n",
    "\n",
    "#     # samples['fr'] = tokenizer.batch_encode_plus(samples['fr'])\n",
    "#     return batch  "
   ]
  },
  {
   "cell_type": "code",
   "execution_count": 26,
   "metadata": {},
   "outputs": [],
   "source": [
    "dataset = Data(data)\n",
    "dataloader = DataLoader(dataset, batch_size=16, shuffle=True)"
   ]
  },
  {
   "cell_type": "markdown",
   "metadata": {},
   "source": [
    "# Modelling"
   ]
  },
  {
   "cell_type": "code",
   "execution_count": 101,
   "metadata": {},
   "outputs": [],
   "source": [
    "transformers = Transformers(\n",
    "    n_layer=6,\n",
    "    n_heads=8,\n",
    "    d_model=512,\n",
    "    d_ff=2048,\n",
    "    max_seq_len=128,\n",
    "    vocab_size = tokenizer.vocab_size\n",
    ")"
   ]
  },
  {
   "cell_type": "code",
   "execution_count": 28,
   "metadata": {},
   "outputs": [],
   "source": [
    "criterion = nn.CrossEntropyLoss()\n",
    "optimizer = optim.Adam(transformers.parameters(), lr = 1e-4)"
   ]
  },
  {
   "cell_type": "code",
   "execution_count": 29,
   "metadata": {},
   "outputs": [
    {
     "name": "stdout",
     "output_type": "stream",
     "text": [
      "11.655684471130371\n"
     ]
    }
   ],
   "source": [
    "#, collate_fn=collate_fn\n",
    "debug = False\n",
    "for idx, rows in enumerate(dataloader) :\n",
    "    transformers.zero_grad()\n",
    "    en_token_ids = tokenizer.batch_encode_plus(rows['en'], add_special_tokens = False)\n",
    "    fr_token_ids = tokenizer.batch_encode_plus(rows['fr'], add_special_tokens = False)\n",
    "    encoder_inp = preprocess_batch(en_token_ids, type='input')\n",
    "    decoder_inp = preprocess_batch(fr_token_ids, type='output')\n",
    "    label = preprocess_batch(fr_token_ids, type='label')\n",
    "    # print(encoder_inp.size(), decoder_inp.size(), label.size())\n",
    "    attention_scores, output = transformers(encoder_inp, decoder_inp)\n",
    "    loss = criterion(output, label.reshape(-1))\n",
    "    loss.backward()\n",
    "    optimizer.step()\n",
    "    print(loss.item())\n",
    "    break\n",
    "    "
   ]
  },
  {
   "cell_type": "code",
   "execution_count": null,
   "metadata": {},
   "outputs": [],
   "source": []
  }
 ],
 "metadata": {
  "kernelspec": {
   "display_name": "base",
   "language": "python",
   "name": "python3"
  },
  "language_info": {
   "codemirror_mode": {
    "name": "ipython",
    "version": 3
   },
   "file_extension": ".py",
   "mimetype": "text/x-python",
   "name": "python",
   "nbconvert_exporter": "python",
   "pygments_lexer": "ipython3",
   "version": "3.10.9"
  },
  "orig_nbformat": 4
 },
 "nbformat": 4,
 "nbformat_minor": 2
}
