{
 "cells": [
  {
   "cell_type": "code",
   "execution_count": 19,
   "metadata": {},
   "outputs": [],
   "source": [
    "import os\n",
    "import pandas as pd\n",
    "from tqdm import tqdm\n",
    "from datetime import datetime\n",
    "\n",
    "## data imports\n",
    "from sklearn.model_selection import train_test_split\n",
    "\n",
    "## torch imports\n",
    "import torch\n",
    "import torch.nn as nn\n",
    "import torch.nn.functional as F\n",
    "import torch.optim as optim\n",
    "\n",
    "from torch.nn.utils.rnn import pad_sequence\n",
    "from torch.utils.data import Dataset, DataLoader\n",
    "from torch.utils.tensorboard import SummaryWriter\n",
    "\n",
    "## transformer related imports\n",
    "from transformers import AutoTokenizer\n",
    "from transformers_fmt.model_blocks.transformer import Transformers\n",
    "\n",
    "## constants\n",
    "from constants import ROOT_DIR, DEVICE, LOGS_DIR\n",
    "from utils.logging import logs"
   ]
  },
  {
   "cell_type": "code",
   "execution_count": 20,
   "metadata": {},
   "outputs": [],
   "source": [
    "max_seq_len = 20\n",
    "writer = SummaryWriter(log_dir=LOGS_DIR)"
   ]
  },
  {
   "cell_type": "markdown",
   "metadata": {},
   "source": [
    "# Dataset"
   ]
  },
  {
   "cell_type": "markdown",
   "metadata": {},
   "source": [
    "### Prepare Tokenizer"
   ]
  },
  {
   "cell_type": "code",
   "execution_count": 21,
   "metadata": {},
   "outputs": [
    {
     "data": {
      "text/plain": [
       "2"
      ]
     },
     "execution_count": 21,
     "metadata": {},
     "output_type": "execute_result"
    }
   ],
   "source": [
    "tokenizer = AutoTokenizer.from_pretrained('bert-base-multilingual-cased')\n",
    "tokenizer.add_special_tokens({\n",
    "    'bos_token' : '[BOS]',\n",
    "    'eos_token' : '[EOS]'\n",
    "})"
   ]
  },
  {
   "cell_type": "code",
   "execution_count": 22,
   "metadata": {},
   "outputs": [],
   "source": [
    "def get_data(file_location, chunksize=1000, n_chunks = 100) :\n",
    "\n",
    "    data = []\n",
    "\n",
    "\n",
    "    for i, items in enumerate(pd.read_csv(file_location, chunksize=chunksize)) :\n",
    "\n",
    "        data.append(items)\n",
    "        if i == n_chunks - 1 :\n",
    "            break\n",
    "\n",
    "    data = pd.concat(data)\n",
    "    data.index = range(len(data))\n",
    "\n",
    "    return data"
   ]
  },
  {
   "cell_type": "code",
   "execution_count": 23,
   "metadata": {},
   "outputs": [],
   "source": [
    "data = get_data(file_location=os.path.join(ROOT_DIR, 'data/en_fr_100K.csv'), n_chunks = 50)"
   ]
  },
  {
   "cell_type": "code",
   "execution_count": 24,
   "metadata": {},
   "outputs": [],
   "source": [
    "def remove_long_sentence(max_seq_len, data):\n",
    "    \"\"\"\n",
    "    Remove sentences that are longer than max_seq_len\n",
    "    \"\"\"\n",
    "    data['en_sentence_length'] = data['en'].apply(lambda x : len(x.split()) if type(x) == str else max_seq_len + 1)\n",
    "    data['fr_sentence_length'] = data['fr'].apply(lambda x : len(x.split()) if type(x) == str else max_seq_len + 1)\n",
    "\n",
    "    data = data.drop(\n",
    "        data[(data['en_sentence_length'] > max_seq_len) | (data['fr_sentence_length'] > max_seq_len)].index\n",
    "    )\n",
    "\n",
    "    data.index = range(len(data))\n",
    "    \n",
    "    return data"
   ]
  },
  {
   "cell_type": "code",
   "execution_count": 25,
   "metadata": {},
   "outputs": [],
   "source": [
    "data = remove_long_sentence(max_seq_len, data)"
   ]
  },
  {
   "cell_type": "code",
   "execution_count": 26,
   "metadata": {},
   "outputs": [
    {
     "data": {
      "text/html": [
       "<div>\n",
       "<style scoped>\n",
       "    .dataframe tbody tr th:only-of-type {\n",
       "        vertical-align: middle;\n",
       "    }\n",
       "\n",
       "    .dataframe tbody tr th {\n",
       "        vertical-align: top;\n",
       "    }\n",
       "\n",
       "    .dataframe thead th {\n",
       "        text-align: right;\n",
       "    }\n",
       "</style>\n",
       "<table border=\"1\" class=\"dataframe\">\n",
       "  <thead>\n",
       "    <tr style=\"text-align: right;\">\n",
       "      <th></th>\n",
       "      <th>en</th>\n",
       "      <th>fr</th>\n",
       "      <th>en_sentence_length</th>\n",
       "      <th>fr_sentence_length</th>\n",
       "    </tr>\n",
       "  </thead>\n",
       "  <tbody>\n",
       "    <tr>\n",
       "      <th>0</th>\n",
       "      <td>Site map</td>\n",
       "      <td>Plan du site</td>\n",
       "      <td>2</td>\n",
       "      <td>3</td>\n",
       "    </tr>\n",
       "    <tr>\n",
       "      <th>1</th>\n",
       "      <td>Feedback</td>\n",
       "      <td>Rétroaction</td>\n",
       "      <td>1</td>\n",
       "      <td>1</td>\n",
       "    </tr>\n",
       "    <tr>\n",
       "      <th>2</th>\n",
       "      <td>Credits</td>\n",
       "      <td>Crédits</td>\n",
       "      <td>1</td>\n",
       "      <td>1</td>\n",
       "    </tr>\n",
       "    <tr>\n",
       "      <th>3</th>\n",
       "      <td>Français</td>\n",
       "      <td>English</td>\n",
       "      <td>1</td>\n",
       "      <td>1</td>\n",
       "    </tr>\n",
       "    <tr>\n",
       "      <th>4</th>\n",
       "      <td>What is light ?</td>\n",
       "      <td>Qu’est-ce que la lumière?</td>\n",
       "      <td>4</td>\n",
       "      <td>4</td>\n",
       "    </tr>\n",
       "    <tr>\n",
       "      <th>...</th>\n",
       "      <td>...</td>\n",
       "      <td>...</td>\n",
       "      <td>...</td>\n",
       "      <td>...</td>\n",
       "    </tr>\n",
       "    <tr>\n",
       "      <th>25016</th>\n",
       "      <td>(% change)</td>\n",
       "      <td>Tableau A-9A.</td>\n",
       "      <td>2</td>\n",
       "      <td>2</td>\n",
       "    </tr>\n",
       "    <tr>\n",
       "      <th>25017</th>\n",
       "      <td>YEAR</td>\n",
       "      <td>ANNÉE</td>\n",
       "      <td>1</td>\n",
       "      <td>1</td>\n",
       "    </tr>\n",
       "    <tr>\n",
       "      <th>25018</th>\n",
       "      <td>CONSUMER GOODS &amp; SERVICES (% change)</td>\n",
       "      <td>Biens et services de consommation ( % de chang...</td>\n",
       "      <td>6</td>\n",
       "      <td>9</td>\n",
       "    </tr>\n",
       "    <tr>\n",
       "      <th>25019</th>\n",
       "      <td>FOOD &amp; NONALCOHOLIC BEVERAGES (% change)</td>\n",
       "      <td>Produits alimentaires et boissons non alcoolis...</td>\n",
       "      <td>6</td>\n",
       "      <td>10</td>\n",
       "    </tr>\n",
       "    <tr>\n",
       "      <th>25020</th>\n",
       "      <td>ALCOHOLIC BEVERAGES &amp; TOBACCO (% change)</td>\n",
       "      <td>Boissons alcoolisées et tabac ( % de changement)</td>\n",
       "      <td>6</td>\n",
       "      <td>8</td>\n",
       "    </tr>\n",
       "  </tbody>\n",
       "</table>\n",
       "<p>25021 rows × 4 columns</p>\n",
       "</div>"
      ],
      "text/plain": [
       "                                             en  \\\n",
       "0                                      Site map   \n",
       "1                                      Feedback   \n",
       "2                                       Credits   \n",
       "3                                      Français   \n",
       "4                               What is light ?   \n",
       "...                                         ...   \n",
       "25016                                (% change)   \n",
       "25017                                      YEAR   \n",
       "25018      CONSUMER GOODS & SERVICES (% change)   \n",
       "25019  FOOD & NONALCOHOLIC BEVERAGES (% change)   \n",
       "25020  ALCOHOLIC BEVERAGES & TOBACCO (% change)   \n",
       "\n",
       "                                                      fr  en_sentence_length  \\\n",
       "0                                           Plan du site                   2   \n",
       "1                                            Rétroaction                   1   \n",
       "2                                                Crédits                   1   \n",
       "3                                                English                   1   \n",
       "4                              Qu’est-ce que la lumière?                   4   \n",
       "...                                                  ...                 ...   \n",
       "25016                                      Tableau A-9A.                   2   \n",
       "25017                                              ANNÉE                   1   \n",
       "25018  Biens et services de consommation ( % de chang...                   6   \n",
       "25019  Produits alimentaires et boissons non alcoolis...                   6   \n",
       "25020   Boissons alcoolisées et tabac ( % de changement)                   6   \n",
       "\n",
       "       fr_sentence_length  \n",
       "0                       3  \n",
       "1                       1  \n",
       "2                       1  \n",
       "3                       1  \n",
       "4                       4  \n",
       "...                   ...  \n",
       "25016                   2  \n",
       "25017                   1  \n",
       "25018                   9  \n",
       "25019                  10  \n",
       "25020                   8  \n",
       "\n",
       "[25021 rows x 4 columns]"
      ]
     },
     "execution_count": 26,
     "metadata": {},
     "output_type": "execute_result"
    }
   ],
   "source": [
    "data"
   ]
  },
  {
   "cell_type": "code",
   "execution_count": 27,
   "metadata": {},
   "outputs": [],
   "source": [
    "train_data, val_test_data = train_test_split(data, test_size=0.2, random_state=42)\n",
    "val_data, test_data = train_test_split(val_test_data, test_size=0.5, random_state=42)\n",
    "\n",
    "train_data.index = range(len(train_data))\n",
    "val_data.index = range(len(val_data))\n",
    "test_data.index = range(len(test_data))"
   ]
  },
  {
   "cell_type": "markdown",
   "metadata": {},
   "source": [
    "### Pytorch Dataset"
   ]
  },
  {
   "cell_type": "code",
   "execution_count": 28,
   "metadata": {},
   "outputs": [],
   "source": [
    "class Data(Dataset) :\n",
    "\n",
    "    def __init__(self, data) :\n",
    "        self.data = data\n",
    "\n",
    "    def __len__(self) :\n",
    "        return len(self.data)\n",
    "    \n",
    "    def __getitem__(self, index) -> any:\n",
    "        row = self.data.loc[index]\n",
    "        return {'en' : row['en'], 'fr' : row['fr']}"
   ]
  },
  {
   "cell_type": "code",
   "execution_count": 29,
   "metadata": {},
   "outputs": [],
   "source": [
    "def preprocess_batch(batch, type = 'input') :\n",
    "\n",
    "    ## Append the BOS and EOS token based on wether the batch is the encoder input, decoder input(output shifted left)\n",
    "    ## or the label (output shifted right)\n",
    "    if type == 'input' :\n",
    "        input_token_ids = [\n",
    "            torch.cat(\n",
    "                (\n",
    "                    torch.tensor([tokenizer.bos_token_id]), \n",
    "                    torch.tensor(inp), \n",
    "                    torch.tensor([tokenizer.eos_token_id])\n",
    "                ),\n",
    "            ) for inp in batch['input_ids']\n",
    "        ]\n",
    "\n",
    "    elif type == 'output' :\n",
    "        input_token_ids = [\n",
    "            torch.cat(\n",
    "                (torch.tensor([tokenizer.bos_token_id]), torch.tensor(inp)),\n",
    "            ) for inp in batch['input_ids']\n",
    "        ]\n",
    "\n",
    "    elif type == 'label' :\n",
    "        input_token_ids = [\n",
    "            torch.cat(\n",
    "                (torch.tensor(inp), torch.tensor([tokenizer.eos_token_id])),\n",
    "            ) for inp in batch['input_ids']\n",
    "        ]\n",
    "\n",
    "    ## pad the token to the maxiumum sentence length\n",
    "    input_token_ids = pad_sequence(input_token_ids, batch_first=True, padding_value = tokenizer.pad_token_id)\n",
    "\n",
    "    return input_token_ids\n",
    "\n",
    "# def collate_fn(samples):\n",
    "    \n",
    "#     eng_samples = [items['en'] for items in samples]\n",
    "#     fr_samples = [items['fr'] for items in samples]\n",
    "\n",
    "#     batch = {}\n",
    "\n",
    "#     for language, sample in {'en' : eng_samples, 'fr' : fr_samples}.items() :\n",
    "\n",
    "#         sample = tokenizer.batch_encode_plus(sample)\n",
    "#         batch[language] = preprocess_batch(sample)\n",
    "\n",
    "#     # samples['fr'] = tokenizer.batch_encode_plus(samples['fr'])\n",
    "#     return batch  "
   ]
  },
  {
   "cell_type": "code",
   "execution_count": 30,
   "metadata": {},
   "outputs": [],
   "source": [
    "train_dataset = Data(train_data)\n",
    "train_dataloader = DataLoader(train_dataset, batch_size=8, shuffle=True)\n",
    "\n",
    "val_dataset = Data(val_data)\n",
    "val_dataloader = DataLoader(val_dataset, batch_size=8, shuffle=True)\n",
    "\n",
    "test_dataset = Data(test_data)\n",
    "test_dataloader = DataLoader(test_dataset, batch_size=8, shuffle=True)\n",
    "\n",
    "data_loaders = {\n",
    "    'train': train_dataloader,\n",
    "    'val': val_dataloader,\n",
    "    'test': test_dataloader\n",
    "}"
   ]
  },
  {
   "cell_type": "markdown",
   "metadata": {},
   "source": [
    "# Modeling"
   ]
  },
  {
   "cell_type": "markdown",
   "metadata": {},
   "source": [
    "### Model"
   ]
  },
  {
   "cell_type": "code",
   "execution_count": 31,
   "metadata": {},
   "outputs": [],
   "source": [
    "model = Transformers(\n",
    "    n_layer = 6,\n",
    "    n_heads = 8,\n",
    "    d_model = 512, \n",
    "    d_ff = 2048,\n",
    "    max_seq_len = 512,\n",
    "    vocab_size = tokenizer.vocab_size,\n",
    "    device = DEVICE\n",
    ").to(DEVICE)"
   ]
  },
  {
   "cell_type": "code",
   "execution_count": 32,
   "metadata": {},
   "outputs": [],
   "source": [
    "def generate(model, enc_output, tokenizer, max_seq_len, device):\n",
    "    \n",
    "    input_ids = torch.tensor([[tokenizer.bos_token_id] for _ in range(enc_output.size(0))]).to(device)\n",
    "\n",
    "    unfinished_sequences = torch.ones(input_ids.size(0), 1).to(device)\n",
    "    eos_token_id_tensor = torch.tensor([tokenizer.eos_token_id]).to(device)\n",
    "    # logs('unfinished_sequences size: {}'.format(unfinished_sequences.size()), debug)\n",
    "\n",
    "    sentence_length = input_ids.size(1)\n",
    "\n",
    "    while sentence_length <= max_seq_len :\n",
    "\n",
    "        x = model.embedding(input_ids)\n",
    "        x = model.positonal_embedding(x)\n",
    "        x = model.decoder(x, enc_output)\n",
    "        next_token_logits = x[:, -1, :]\n",
    "        \n",
    "        # logs(f'next_token_logits size: {next_token_logits.size()}', debug)\n",
    "\n",
    "        next_token_logits = F.softmax(next_token_logits, dim=1)\n",
    "        next_token_indices = torch.argmax(next_token_logits, dim = 1)\n",
    "\n",
    "        # logs(f'next_token_indices post softmax size: {next_token_indices.size()}', debug)\n",
    "\n",
    "        # logs(f'next_token_indices * unfinished_sequences size: {(next_token_indices.unsqueeze(1) * unfinished_sequences).size()}', debug)\n",
    "\n",
    "        # logs(f'tokenizer.pad_token_id * (1 - unfinished_sequences) size: {(tokenizer.pad_token_id * (1 - unfinished_sequences)).size()}', debug)\n",
    "\n",
    "        next_token_indices = (\n",
    "            next_token_indices.unsqueeze(1) * unfinished_sequences + tokenizer.pad_token_id * (1 - unfinished_sequences)\n",
    "        )\n",
    "        unfinished_sequences = unfinished_sequences.mul(\n",
    "            next_token_indices.tile(\n",
    "                eos_token_id_tensor.shape[0]\n",
    "            ).ne(eos_token_id_tensor).prod(dim = 0)\n",
    "        )\n",
    "\n",
    "        if unfinished_sequences.max() == 0 :\n",
    "            break\n",
    "\n",
    "        # print(input_ids.size())\n",
    "        # print(next_token_indices.size())\n",
    "\n",
    "        input_ids = torch.cat(\n",
    "            (\n",
    "                input_ids, \n",
    "                next_token_indices\n",
    "            ), \n",
    "            dim = 1).long()\n",
    "\n",
    "        sentence_length += 1\n",
    "    \n",
    "        print(input_ids.size(1))\n",
    "\n",
    "    return input_ids\n"
   ]
  },
  {
   "cell_type": "markdown",
   "metadata": {},
   "source": [
    "### Train / val loop"
   ]
  },
  {
   "cell_type": "code",
   "execution_count": 33,
   "metadata": {},
   "outputs": [],
   "source": [
    "debug = False\n",
    "\n",
    "def train_model(model, data_loader, optimizer, criterion, device, epoch, mode = 'train') :\n",
    "\n",
    "    EPOCH_LOSS = 0\n",
    "\n",
    "    assert mode in ['train', 'val'], 'Mode should be either \"train\" or \"val\"'\n",
    "\n",
    "    if mode == 'train' :\n",
    "        model.train()\n",
    "    elif mode == 'val' :\n",
    "        model.eval()\n",
    "\n",
    "    for i, rows in enumerate(data_loader[mode]) :\n",
    "\n",
    "        try :\n",
    "\n",
    "            ## preprocess batch for training\n",
    "            en_token_ids = tokenizer.batch_encode_plus(rows['en'], add_special_tokens = False)\n",
    "            fr_token_ids = tokenizer.batch_encode_plus(rows['fr'], add_special_tokens = False)\n",
    "            encoder_inp = preprocess_batch(en_token_ids, type='input').to(device)\n",
    "            logs(f'encoder_inp size : {encoder_inp.size()}', debug)\n",
    "            decoder_inp = preprocess_batch(fr_token_ids, type='output').to(device)\n",
    "            logs(f'decoder_inp size : {decoder_inp.size()}', debug)\n",
    "            label = preprocess_batch(fr_token_ids, type='label').to(device)\n",
    "\n",
    "            ## forward pass through the model\n",
    "            attention_scores, output = model(encoder_inp, decoder_inp)\n",
    "\n",
    "            ## calculate loss\n",
    "            loss = criterion(output, label.reshape(-1))\n",
    "\n",
    "            ## optimize model\n",
    "            if mode == 'train' :\n",
    "                optimizer.zero_grad()\n",
    "                loss.backward()\n",
    "                optimizer.step()\n",
    "\n",
    "            ## accumulate loss\n",
    "            EPOCH_LOSS += loss.item()\n",
    "\n",
    "            writer.add_scalar(f'{mode} loss', EPOCH_LOSS/(i + 1), epoch * len(data_loader[mode]) + i)\n",
    "\n",
    "        except Exception as e :\n",
    "            print(f'{epoch}_{i} | Exception : {e}')\n",
    "        \n",
    "        torch.cuda.empty_cache()\n",
    "\n",
    "    return EPOCH_LOSS / len(data_loader[mode])"
   ]
  },
  {
   "cell_type": "markdown",
   "metadata": {},
   "source": [
    "### Test loop"
   ]
  },
  {
   "cell_type": "code",
   "execution_count": 34,
   "metadata": {},
   "outputs": [],
   "source": [
    "def test_model(model, valid_loader, device, tokenizer, max_seq_len) :\n",
    "\n",
    "    EPOCH_LOSS = 0\n",
    "\n",
    "    model.eval()\n",
    "\n",
    "    for i, rows in enumerate(valid_loader) :\n",
    "\n",
    "        ## preprocess batch for training\n",
    "        en_token_ids = tokenizer.batch_encode_plus(rows['en'], add_special_tokens = False)\n",
    "        fr_token_ids = tokenizer.batch_encode_plus(rows['fr'], add_special_tokens = False)\n",
    "        encoder_inp = preprocess_batch(en_token_ids, type='input').to(device)\n",
    "        decoder_inp = preprocess_batch(fr_token_ids, type='output').to(device)\n",
    "        label = preprocess_batch(fr_token_ids, type='label').to(device)\n",
    "\n",
    "        ## encode the input\n",
    "        enc_output, attention_scores = model.encoder_pass(encoder_inp)\n",
    "\n",
    "        input_tokens = generate(model, enc_output, tokenizer, max_seq_len)"
   ]
  },
  {
   "cell_type": "markdown",
   "metadata": {},
   "source": [
    "### Optimizer and Loss Function"
   ]
  },
  {
   "cell_type": "code",
   "execution_count": 35,
   "metadata": {},
   "outputs": [],
   "source": [
    "criterion = nn.CrossEntropyLoss()\n",
    "optimizer = optim.Adam(model.parameters(), lr = 1e-4)"
   ]
  },
  {
   "cell_type": "markdown",
   "metadata": {},
   "source": [
    "### Model training"
   ]
  },
  {
   "cell_type": "code",
   "execution_count": 36,
   "metadata": {},
   "outputs": [],
   "source": [
    "least_val_loss = 1000\n",
    "MODEL_DIR = os.path.join(ROOT_DIR, 'model_weights')"
   ]
  },
  {
   "cell_type": "code",
   "execution_count": 37,
   "metadata": {},
   "outputs": [
    {
     "name": "stdout",
     "output_type": "stream",
     "text": [
      "Epochs 1\n",
      "0_0 | Exception : float division by zero\n"
     ]
    },
    {
     "ename": "KeyboardInterrupt",
     "evalue": "",
     "output_type": "error",
     "traceback": [
      "\u001b[0;31m---------------------------------------------------------------------------\u001b[0m",
      "\u001b[0;31mKeyboardInterrupt\u001b[0m                         Traceback (most recent call last)",
      "Cell \u001b[0;32mIn[37], line 8\u001b[0m\n\u001b[1;32m      4\u001b[0m \u001b[39mfor\u001b[39;00m epochs \u001b[39min\u001b[39;00m \u001b[39mrange\u001b[39m(start_epochs, end_epochs) :\n\u001b[1;32m      6\u001b[0m     \u001b[39mprint\u001b[39m(\u001b[39mf\u001b[39m\u001b[39m'\u001b[39m\u001b[39mEpochs \u001b[39m\u001b[39m{\u001b[39;00mepochs\u001b[39m \u001b[39m\u001b[39m+\u001b[39m\u001b[39m \u001b[39m\u001b[39m1\u001b[39m\u001b[39m}\u001b[39;00m\u001b[39m'\u001b[39m)\n\u001b[0;32m----> 8\u001b[0m     train_loss \u001b[39m=\u001b[39m train_model(model, data_loaders, optimizer, criterion, DEVICE, epochs, mode \u001b[39m=\u001b[39;49m \u001b[39m'\u001b[39;49m\u001b[39mtrain\u001b[39;49m\u001b[39m'\u001b[39;49m)\n\u001b[1;32m      9\u001b[0m     val_loss \u001b[39m=\u001b[39m train_model(model, data_loaders, optimizer, criterion, DEVICE, epochs, mode \u001b[39m=\u001b[39m \u001b[39m'\u001b[39m\u001b[39mval\u001b[39m\u001b[39m'\u001b[39m)\n\u001b[1;32m     11\u001b[0m     \u001b[39mif\u001b[39;00m val_loss \u001b[39m<\u001b[39m least_val_loss :\n",
      "Cell \u001b[0;32mIn[33], line 28\u001b[0m, in \u001b[0;36mtrain_model\u001b[0;34m(model, data_loader, optimizer, criterion, device, epoch, mode)\u001b[0m\n\u001b[1;32m     25\u001b[0m label \u001b[39m=\u001b[39m preprocess_batch(fr_token_ids, \u001b[39mtype\u001b[39m\u001b[39m=\u001b[39m\u001b[39m'\u001b[39m\u001b[39mlabel\u001b[39m\u001b[39m'\u001b[39m)\u001b[39m.\u001b[39mto(device)\n\u001b[1;32m     27\u001b[0m \u001b[39m## forward pass through the model\u001b[39;00m\n\u001b[0;32m---> 28\u001b[0m attention_scores, output \u001b[39m=\u001b[39m model(encoder_inp, decoder_inp)\n\u001b[1;32m     30\u001b[0m \u001b[39m## calculate loss\u001b[39;00m\n\u001b[1;32m     31\u001b[0m loss \u001b[39m=\u001b[39m criterion(output, label\u001b[39m.\u001b[39mreshape(\u001b[39m-\u001b[39m\u001b[39m1\u001b[39m))\n",
      "File \u001b[0;32m~/.local/lib/python3.10/site-packages/torch/nn/modules/module.py:1130\u001b[0m, in \u001b[0;36mModule._call_impl\u001b[0;34m(self, *input, **kwargs)\u001b[0m\n\u001b[1;32m   1126\u001b[0m \u001b[39m# If we don't have any hooks, we want to skip the rest of the logic in\u001b[39;00m\n\u001b[1;32m   1127\u001b[0m \u001b[39m# this function, and just call forward.\u001b[39;00m\n\u001b[1;32m   1128\u001b[0m \u001b[39mif\u001b[39;00m \u001b[39mnot\u001b[39;00m (\u001b[39mself\u001b[39m\u001b[39m.\u001b[39m_backward_hooks \u001b[39mor\u001b[39;00m \u001b[39mself\u001b[39m\u001b[39m.\u001b[39m_forward_hooks \u001b[39mor\u001b[39;00m \u001b[39mself\u001b[39m\u001b[39m.\u001b[39m_forward_pre_hooks \u001b[39mor\u001b[39;00m _global_backward_hooks\n\u001b[1;32m   1129\u001b[0m         \u001b[39mor\u001b[39;00m _global_forward_hooks \u001b[39mor\u001b[39;00m _global_forward_pre_hooks):\n\u001b[0;32m-> 1130\u001b[0m     \u001b[39mreturn\u001b[39;00m forward_call(\u001b[39m*\u001b[39;49m\u001b[39minput\u001b[39;49m, \u001b[39m*\u001b[39;49m\u001b[39m*\u001b[39;49mkwargs)\n\u001b[1;32m   1131\u001b[0m \u001b[39m# Do not call functions when jit is used\u001b[39;00m\n\u001b[1;32m   1132\u001b[0m full_backward_hooks, non_full_backward_hooks \u001b[39m=\u001b[39m [], []\n",
      "File \u001b[0;32m~/fmt/self-implementations/transformers_fmt/model_blocks/transformer.py:165\u001b[0m, in \u001b[0;36mTransformers.forward\u001b[0;34m(self, encoder_inp, decoder_inp)\u001b[0m\n\u001b[1;32m    162\u001b[0m \u001b[39mdef\u001b[39;00m \u001b[39mforward\u001b[39m(\u001b[39mself\u001b[39m, encoder_inp, decoder_inp) :\n\u001b[1;32m    164\u001b[0m     enc_output, attention_scores \u001b[39m=\u001b[39m \u001b[39mself\u001b[39m\u001b[39m.\u001b[39mencoder_pass(encoder_inp)\n\u001b[0;32m--> 165\u001b[0m     output \u001b[39m=\u001b[39m \u001b[39mself\u001b[39;49m\u001b[39m.\u001b[39;49mdecoder_pass(enc_output, decoder_inp)\n\u001b[1;32m    167\u001b[0m     \u001b[39mreturn\u001b[39;00m attention_scores, output\n",
      "File \u001b[0;32m~/fmt/self-implementations/transformers_fmt/model_blocks/transformer.py:155\u001b[0m, in \u001b[0;36mTransformers.decoder_pass\u001b[0;34m(self, enc_output, input_ids)\u001b[0m\n\u001b[1;32m    153\u001b[0m x \u001b[39m=\u001b[39m \u001b[39mself\u001b[39m\u001b[39m.\u001b[39membedding(input_ids)\n\u001b[1;32m    154\u001b[0m x \u001b[39m=\u001b[39m \u001b[39mself\u001b[39m\u001b[39m.\u001b[39mpositonal_embedding(x)\n\u001b[0;32m--> 155\u001b[0m x \u001b[39m=\u001b[39m \u001b[39mself\u001b[39;49m\u001b[39m.\u001b[39;49mdecoder(x, enc_output)\n\u001b[1;32m    157\u001b[0m next_token_logits \u001b[39m=\u001b[39m F\u001b[39m.\u001b[39mrelu(\u001b[39mself\u001b[39m\u001b[39m.\u001b[39mlogit_layer(x))\n\u001b[1;32m    158\u001b[0m next_token_logits \u001b[39m=\u001b[39m next_token_logits\u001b[39m.\u001b[39mreshape(\u001b[39m-\u001b[39m\u001b[39m1\u001b[39m, next_token_logits\u001b[39m.\u001b[39msize(\u001b[39m2\u001b[39m))\n",
      "File \u001b[0;32m~/.local/lib/python3.10/site-packages/torch/nn/modules/module.py:1130\u001b[0m, in \u001b[0;36mModule._call_impl\u001b[0;34m(self, *input, **kwargs)\u001b[0m\n\u001b[1;32m   1126\u001b[0m \u001b[39m# If we don't have any hooks, we want to skip the rest of the logic in\u001b[39;00m\n\u001b[1;32m   1127\u001b[0m \u001b[39m# this function, and just call forward.\u001b[39;00m\n\u001b[1;32m   1128\u001b[0m \u001b[39mif\u001b[39;00m \u001b[39mnot\u001b[39;00m (\u001b[39mself\u001b[39m\u001b[39m.\u001b[39m_backward_hooks \u001b[39mor\u001b[39;00m \u001b[39mself\u001b[39m\u001b[39m.\u001b[39m_forward_hooks \u001b[39mor\u001b[39;00m \u001b[39mself\u001b[39m\u001b[39m.\u001b[39m_forward_pre_hooks \u001b[39mor\u001b[39;00m _global_backward_hooks\n\u001b[1;32m   1129\u001b[0m         \u001b[39mor\u001b[39;00m _global_forward_hooks \u001b[39mor\u001b[39;00m _global_forward_pre_hooks):\n\u001b[0;32m-> 1130\u001b[0m     \u001b[39mreturn\u001b[39;00m forward_call(\u001b[39m*\u001b[39;49m\u001b[39minput\u001b[39;49m, \u001b[39m*\u001b[39;49m\u001b[39m*\u001b[39;49mkwargs)\n\u001b[1;32m   1131\u001b[0m \u001b[39m# Do not call functions when jit is used\u001b[39;00m\n\u001b[1;32m   1132\u001b[0m full_backward_hooks, non_full_backward_hooks \u001b[39m=\u001b[39m [], []\n",
      "File \u001b[0;32m~/fmt/self-implementations/transformers_fmt/model_blocks/transformer.py:107\u001b[0m, in \u001b[0;36mDecoder.forward\u001b[0;34m(self, x, enc_out)\u001b[0m\n\u001b[1;32m    104\u001b[0m \u001b[39mdef\u001b[39;00m \u001b[39mforward\u001b[39m(\u001b[39mself\u001b[39m, x, enc_out) :\n\u001b[1;32m    106\u001b[0m     \u001b[39mfor\u001b[39;00m name, layer \u001b[39min\u001b[39;00m \u001b[39mself\u001b[39m\u001b[39m.\u001b[39mdecoder\u001b[39m.\u001b[39mitems() :\n\u001b[0;32m--> 107\u001b[0m         x \u001b[39m=\u001b[39m layer(x, enc_out)\n\u001b[1;32m    109\u001b[0m     \u001b[39mreturn\u001b[39;00m x\n",
      "File \u001b[0;32m~/.local/lib/python3.10/site-packages/torch/nn/modules/module.py:1130\u001b[0m, in \u001b[0;36mModule._call_impl\u001b[0;34m(self, *input, **kwargs)\u001b[0m\n\u001b[1;32m   1126\u001b[0m \u001b[39m# If we don't have any hooks, we want to skip the rest of the logic in\u001b[39;00m\n\u001b[1;32m   1127\u001b[0m \u001b[39m# this function, and just call forward.\u001b[39;00m\n\u001b[1;32m   1128\u001b[0m \u001b[39mif\u001b[39;00m \u001b[39mnot\u001b[39;00m (\u001b[39mself\u001b[39m\u001b[39m.\u001b[39m_backward_hooks \u001b[39mor\u001b[39;00m \u001b[39mself\u001b[39m\u001b[39m.\u001b[39m_forward_hooks \u001b[39mor\u001b[39;00m \u001b[39mself\u001b[39m\u001b[39m.\u001b[39m_forward_pre_hooks \u001b[39mor\u001b[39;00m _global_backward_hooks\n\u001b[1;32m   1129\u001b[0m         \u001b[39mor\u001b[39;00m _global_forward_hooks \u001b[39mor\u001b[39;00m _global_forward_pre_hooks):\n\u001b[0;32m-> 1130\u001b[0m     \u001b[39mreturn\u001b[39;00m forward_call(\u001b[39m*\u001b[39;49m\u001b[39minput\u001b[39;49m, \u001b[39m*\u001b[39;49m\u001b[39m*\u001b[39;49mkwargs)\n\u001b[1;32m   1131\u001b[0m \u001b[39m# Do not call functions when jit is used\u001b[39;00m\n\u001b[1;32m   1132\u001b[0m full_backward_hooks, non_full_backward_hooks \u001b[39m=\u001b[39m [], []\n",
      "File \u001b[0;32m~/fmt/self-implementations/transformers_fmt/model_blocks/transformer_layer.py:82\u001b[0m, in \u001b[0;36mDecoderLayer.forward\u001b[0;34m(self, x, enc_out)\u001b[0m\n\u001b[1;32m     79\u001b[0m x, _ \u001b[39m=\u001b[39m \u001b[39mself\u001b[39m\u001b[39m.\u001b[39mcross_mha(enc_out, norm_decoder_query)\n\u001b[1;32m     80\u001b[0m norm_cross_x \u001b[39m=\u001b[39m \u001b[39mself\u001b[39m\u001b[39m.\u001b[39mlayer_norm2(norm_decoder_query, x)\n\u001b[0;32m---> 82\u001b[0m x \u001b[39m=\u001b[39m \u001b[39mself\u001b[39;49m\u001b[39m.\u001b[39;49mpff(norm_cross_x)\n\u001b[1;32m     83\u001b[0m norm_decoder_output \u001b[39m=\u001b[39m \u001b[39mself\u001b[39m\u001b[39m.\u001b[39mlayer_norm3(norm_cross_x, x)\n\u001b[1;32m     85\u001b[0m \u001b[39mreturn\u001b[39;00m norm_decoder_output\n",
      "File \u001b[0;32m~/.local/lib/python3.10/site-packages/torch/nn/modules/module.py:1130\u001b[0m, in \u001b[0;36mModule._call_impl\u001b[0;34m(self, *input, **kwargs)\u001b[0m\n\u001b[1;32m   1126\u001b[0m \u001b[39m# If we don't have any hooks, we want to skip the rest of the logic in\u001b[39;00m\n\u001b[1;32m   1127\u001b[0m \u001b[39m# this function, and just call forward.\u001b[39;00m\n\u001b[1;32m   1128\u001b[0m \u001b[39mif\u001b[39;00m \u001b[39mnot\u001b[39;00m (\u001b[39mself\u001b[39m\u001b[39m.\u001b[39m_backward_hooks \u001b[39mor\u001b[39;00m \u001b[39mself\u001b[39m\u001b[39m.\u001b[39m_forward_hooks \u001b[39mor\u001b[39;00m \u001b[39mself\u001b[39m\u001b[39m.\u001b[39m_forward_pre_hooks \u001b[39mor\u001b[39;00m _global_backward_hooks\n\u001b[1;32m   1129\u001b[0m         \u001b[39mor\u001b[39;00m _global_forward_hooks \u001b[39mor\u001b[39;00m _global_forward_pre_hooks):\n\u001b[0;32m-> 1130\u001b[0m     \u001b[39mreturn\u001b[39;00m forward_call(\u001b[39m*\u001b[39;49m\u001b[39minput\u001b[39;49m, \u001b[39m*\u001b[39;49m\u001b[39m*\u001b[39;49mkwargs)\n\u001b[1;32m   1131\u001b[0m \u001b[39m# Do not call functions when jit is used\u001b[39;00m\n\u001b[1;32m   1132\u001b[0m full_backward_hooks, non_full_backward_hooks \u001b[39m=\u001b[39m [], []\n",
      "File \u001b[0;32m~/fmt/self-implementations/transformers_fmt/model_blocks/internal_blocks.py:208\u001b[0m, in \u001b[0;36mPointWiseFeedforward.forward\u001b[0;34m(self, x)\u001b[0m\n\u001b[1;32m    205\u001b[0m \u001b[39mdef\u001b[39;00m \u001b[39mforward\u001b[39m(\u001b[39mself\u001b[39m, x) :\n\u001b[1;32m    207\u001b[0m     linear1_output \u001b[39m=\u001b[39m \u001b[39mself\u001b[39m\u001b[39m.\u001b[39mlinear1(x)\n\u001b[0;32m--> 208\u001b[0m     linear2_output \u001b[39m=\u001b[39m \u001b[39mself\u001b[39;49m\u001b[39m.\u001b[39;49mlinear2(F\u001b[39m.\u001b[39;49mgelu(linear1_output))\n\u001b[1;32m    210\u001b[0m     \u001b[39mreturn\u001b[39;00m linear2_output\n",
      "File \u001b[0;32m~/.local/lib/python3.10/site-packages/torch/nn/modules/module.py:1130\u001b[0m, in \u001b[0;36mModule._call_impl\u001b[0;34m(self, *input, **kwargs)\u001b[0m\n\u001b[1;32m   1126\u001b[0m \u001b[39m# If we don't have any hooks, we want to skip the rest of the logic in\u001b[39;00m\n\u001b[1;32m   1127\u001b[0m \u001b[39m# this function, and just call forward.\u001b[39;00m\n\u001b[1;32m   1128\u001b[0m \u001b[39mif\u001b[39;00m \u001b[39mnot\u001b[39;00m (\u001b[39mself\u001b[39m\u001b[39m.\u001b[39m_backward_hooks \u001b[39mor\u001b[39;00m \u001b[39mself\u001b[39m\u001b[39m.\u001b[39m_forward_hooks \u001b[39mor\u001b[39;00m \u001b[39mself\u001b[39m\u001b[39m.\u001b[39m_forward_pre_hooks \u001b[39mor\u001b[39;00m _global_backward_hooks\n\u001b[1;32m   1129\u001b[0m         \u001b[39mor\u001b[39;00m _global_forward_hooks \u001b[39mor\u001b[39;00m _global_forward_pre_hooks):\n\u001b[0;32m-> 1130\u001b[0m     \u001b[39mreturn\u001b[39;00m forward_call(\u001b[39m*\u001b[39;49m\u001b[39minput\u001b[39;49m, \u001b[39m*\u001b[39;49m\u001b[39m*\u001b[39;49mkwargs)\n\u001b[1;32m   1131\u001b[0m \u001b[39m# Do not call functions when jit is used\u001b[39;00m\n\u001b[1;32m   1132\u001b[0m full_backward_hooks, non_full_backward_hooks \u001b[39m=\u001b[39m [], []\n",
      "File \u001b[0;32m~/.local/lib/python3.10/site-packages/torch/nn/modules/linear.py:114\u001b[0m, in \u001b[0;36mLinear.forward\u001b[0;34m(self, input)\u001b[0m\n\u001b[1;32m    113\u001b[0m \u001b[39mdef\u001b[39;00m \u001b[39mforward\u001b[39m(\u001b[39mself\u001b[39m, \u001b[39minput\u001b[39m: Tensor) \u001b[39m-\u001b[39m\u001b[39m>\u001b[39m Tensor:\n\u001b[0;32m--> 114\u001b[0m     \u001b[39mreturn\u001b[39;00m F\u001b[39m.\u001b[39;49mlinear(\u001b[39minput\u001b[39;49m, \u001b[39mself\u001b[39;49m\u001b[39m.\u001b[39;49mweight, \u001b[39mself\u001b[39;49m\u001b[39m.\u001b[39;49mbias)\n",
      "\u001b[0;31mKeyboardInterrupt\u001b[0m: "
     ]
    }
   ],
   "source": [
    "start_epochs = 0\n",
    "end_epochs = 100\n",
    "\n",
    "for epochs in range(start_epochs, end_epochs) :\n",
    "\n",
    "    print(f'Epochs {epochs + 1}')\n",
    "\n",
    "    train_loss = train_model(model, data_loaders, optimizer, criterion, DEVICE, epochs, mode = 'train')\n",
    "    val_loss = train_model(model, data_loaders, optimizer, criterion, DEVICE, epochs, mode = 'val')\n",
    "    \n",
    "    if val_loss < least_val_loss :\n",
    "        try :\n",
    "            least_val_loss = val_loss\n",
    "            torch.save(\n",
    "                model.state_dict(), \n",
    "                os.path.join(MODEL_DIR, f'transformer_ep-{epochs + 1}_val-loss-{val_loss:.4f}.pt')\n",
    "            )\n",
    "        except Exception as e :\n",
    "            print(f'{epochs} | Problem in saving model\\nException : {e}')\n",
    "\n",
    "    print(f'Epochs : {epochs + 1} | Train Loss : {train_loss:.4f} | Val Loss : {val_loss:.4f}')\n",
    "    print('----------------------------------------------------')"
   ]
  },
  {
   "cell_type": "code",
   "execution_count": 36,
   "metadata": {},
   "outputs": [],
   "source": [
    "test_sentence = ['my name is kong', 'this is aditya rustagi', 'i like to eat ice cream']\n",
    "test_sentence_tokens = tokenizer.batch_encode_plus(test_sentence, add_special_tokens = False)\n",
    "encoder_inp = preprocess_batch(test_sentence_tokens, type='input').to(DEVICE)"
   ]
  },
  {
   "cell_type": "code",
   "execution_count": 37,
   "metadata": {},
   "outputs": [
    {
     "name": "stdout",
     "output_type": "stream",
     "text": [
      "2\n",
      "3\n",
      "4\n",
      "5\n",
      "6\n",
      "7\n",
      "8\n",
      "9\n",
      "10\n",
      "11\n",
      "12\n",
      "13\n",
      "14\n",
      "15\n",
      "16\n",
      "17\n",
      "18\n",
      "19\n",
      "20\n",
      "21\n"
     ]
    }
   ],
   "source": [
    "enc_output, attention_scores = model.encoder_pass(encoder_inp)\n",
    "output_ids = generate(model, enc_output, tokenizer, max_seq_len, DEVICE)"
   ]
  },
  {
   "cell_type": "code",
   "execution_count": 38,
   "metadata": {},
   "outputs": [
    {
     "data": {
      "text/plain": [
       "['[BOS] Æ \\\\ Â s [unused67] \\\\ | Â 5 å [unused87] å [unused87] 5 ̍ [unused87] 5 В Œ |',\n",
       " '[BOS] ť s Ό å σ å [unused94] å [unused94] å [unused94] å [unused94] å [unused94] | Â 5 å å',\n",
       " '[BOS] Æ s Ό Â \\\\ Â | Â Τ [unused97] | Â 5 5 В Œ | Â 5 5']"
      ]
     },
     "execution_count": 38,
     "metadata": {},
     "output_type": "execute_result"
    }
   ],
   "source": [
    "tokenizer.batch_decode(output_ids)"
   ]
  },
  {
   "cell_type": "code",
   "execution_count": null,
   "metadata": {},
   "outputs": [],
   "source": []
  }
 ],
 "metadata": {
  "kernelspec": {
   "display_name": "base",
   "language": "python",
   "name": "python3"
  },
  "language_info": {
   "codemirror_mode": {
    "name": "ipython",
    "version": 3
   },
   "file_extension": ".py",
   "mimetype": "text/x-python",
   "name": "python",
   "nbconvert_exporter": "python",
   "pygments_lexer": "ipython3",
   "version": "3.10.12"
  },
  "orig_nbformat": 4
 },
 "nbformat": 4,
 "nbformat_minor": 2
}
